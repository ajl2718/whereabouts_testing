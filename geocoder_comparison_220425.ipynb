{
 "cells": [
  {
   "cell_type": "markdown",
   "id": "a971528a-7b0d-419b-8445-096fd87b8931",
   "metadata": {},
   "source": [
    "# Whereabouts: calculation of speed, accuracy and comparison with other geocoders\n",
    "\n",
    "06 09 24\n",
    "\n",
    "## Description\n",
    "This notebook contains code for producing the accuracy and speed results for the whereabouts package (https://www.github.com/ajl2718/whereabouts) and comparing with three other geocoders: Google, MapBox and Nominatim.\n",
    "\n",
    "\n",
    "## Test datasets\n",
    "There are three datasets used for testing, two for accuracy and one for speed:\n",
    "- Locations of Guzman and Gomez stores in Australia\n",
    "- Random residential locations from parts of Australia\n",
    "- Licensed venues in Victoria, Australia\n",
    "\n",
    "These datasets are available here: https://github.com/ajl2718/python_learning/whereabouts_testing/\n",
    "\n",
    "## Methodology\n",
    "Accuracy is assessed at four levels of geographic granularity:\n",
    "- Apartment number: All components of the address must be correct including level number, building number, shop number where these appear\n",
    "- House number: The main street number has to be correct\n",
    "- Street name: The address is correct up to the street name\n",
    "- Suburb name: The correct suburb of the location is found\n",
    "\n",
    "For each level, a score of 1 is given if the address matches and 0 otherwise. Total accuracy (number of correct / number of addresses) is then calculated for each level"
   ]
  },
  {
   "cell_type": "code",
   "execution_count": 7,
   "id": "cf03bddb-b48f-4851-98d7-c2e1d3789422",
   "metadata": {},
   "outputs": [],
   "source": [
    "from time import time, sleep\n",
    "import requests\n",
    "\n",
    "import pandas as pd\n",
    "import numpy as np\n",
    "\n",
    "import math\n",
    "\n",
    "import matplotlib.pyplot as plt\n",
    "import seaborn as sns\n",
    "\n",
    "%matplotlib inline\n",
    "sns.set()"
   ]
  },
  {
   "cell_type": "code",
   "execution_count": 8,
   "id": "ae64daab-0c31-4ece-9268-71718db38b49",
   "metadata": {},
   "outputs": [],
   "source": [
    "sns.set_style(\"whitegrid\")"
   ]
  },
  {
   "cell_type": "markdown",
   "id": "3fccc417-5669-4687-938d-2337695c7696",
   "metadata": {},
   "source": [
    "## Data sources"
   ]
  },
  {
   "cell_type": "code",
   "execution_count": 9,
   "id": "19b81b11-97de-4ceb-b93f-ccd088f418d4",
   "metadata": {},
   "outputs": [],
   "source": [
    "# load Guzman y Gomez\n",
    "df = pd.read_csv('gyg_210624_geocoded.csv')\n",
    "addresses_gyg = df['address'].values"
   ]
  },
  {
   "cell_type": "code",
   "execution_count": 10,
   "id": "b6382d25-86c1-4be9-b540-a733b9b1646b",
   "metadata": {},
   "outputs": [],
   "source": [
    "# load residential addresses\n",
    "df = pd.read_csv('rea_130824.csv', sep='\\t')\n",
    "addresses_rea = df['address'].sample(128, random_state=42).values"
   ]
  },
  {
   "cell_type": "markdown",
   "id": "7af4320a-1412-4b05-a3fe-c51606a37292",
   "metadata": {},
   "source": [
    "## Geocoding: whereabouts"
   ]
  },
  {
   "cell_type": "code",
   "execution_count": 14,
   "id": "c9b8653a-240c-498b-aa16-e2e40934fad9",
   "metadata": {},
   "outputs": [],
   "source": [
    "from whereabouts.Matcher import Matcher\n",
    "from whereabouts.MatcherPipeline import MatcherPipeline"
   ]
  },
  {
   "cell_type": "code",
   "execution_count": 15,
   "id": "d7435af2-1c53-49a9-a4e7-7d81c8215e54",
   "metadata": {},
   "outputs": [],
   "source": [
    "matcher1 = Matcher('au_all_lg', how='standard')\n",
    "matcher2 = Matcher('au_all_lg', how='trigram')\n",
    "\n",
    "pipeline = MatcherPipeline([matcher1, matcher2])"
   ]
  },
  {
   "cell_type": "code",
   "execution_count": 18,
   "id": "e1d0b91d-a3c9-4e0e-bd54-42bc83f4def3",
   "metadata": {},
   "outputs": [
    {
     "data": {
      "text/plain": [
       "['501 COWPASTURE RD HOXTON PARK 2171 NSW',\n",
       " 'SHOP 1 57 OLD NORTHERN RD ALBANY CREEK 4035 QLD',\n",
       " '175 KING STREET NEWTOWN 2042 NSW',\n",
       " '1A BRONTE RD BONDI JUNCTION SYDNEY 2022 NSW',\n",
       " 'BAYSWATER ROAD CNR PENNYS LANE KINGS CROSS 2011 NSW',\n",
       " 'SHOP 403 LEVEL 4 264 278 GEORGE STREET SYDNEY 2000 NSW',\n",
       " 'SHOP 14 LEVEL 6 MLC CENTRE FOOD COURT MARTIN PLACE CASTLEREAGH STREET SYDNEY 2000 NSW',\n",
       " 'SHOP 5008 LEVEL 5 WESTFIELD SYDNEY FOOD COURT 188 PITT STREET SYDNEY 2000 NSW',\n",
       " 'SHOP 2 77 WILLOUGHBY ROAD CRN HOLTERMAN STREET CROWS NEST 2065 NSW',\n",
       " 'SHOP 6013 LEVEL 6 WESTFIELD BONDI JUNCTION 500 OXFORD STREET BONDI JUNCTION 2022 NSW',\n",
       " 'SHOP EG07 07B BUNDA ST CANBERRA CENTRE SHOPPING CENTRE CANBERRA CITY 2601 ACT',\n",
       " '86 BEAUMONT STREET HAMILTON 2303 NSW',\n",
       " 'SHOP 14 MANLY WHARF EAST ESPLANADE MANLY 2095 NSW',\n",
       " 'SHOP 10 31 WORLD SQUARE SHOPPING CENTRE 680 GEORGE ST SYDNEY 2000 NSW',\n",
       " 'SHOP 73 RHODES WATERSIDE SHOPPING CENTRE 1 RIDER BLVD RHODES 2138 NSW',\n",
       " 'UNIVERSITY TERRACES LOWER KENSINGTON CAMPUS HIGH ST KENSINGTON 2052 NSW',\n",
       " 'WESTFIELD PARRAMATTA SHOP 4068 LEVEL 4 159 175 CHURCH STREET PARRAMATTA 2150 NSW',\n",
       " 'FOUNTAIN PLAZA SHOPPING CENTRE SHOP 11B 148 THE ENTRANCE ROAD ERINA 2250 NSW',\n",
       " 'CHARLESTOWN SQUARE SHOPPING CENTRE TENANCY L02 K213 30 PEARSON STREET CHARLESTOWN 2290 NSW',\n",
       " 'WESTFIELD BELCONNEN TENANCY 312 BENJAMIN WAY BELCONNEN 2617 ACT',\n",
       " 'TENANCY 2018 STOCKLAND SHELLHARBOUR 211 LAKE ENTRANCE RD SHELLHARBOUR 2529 NSW',\n",
       " 'TENANCY 12B 12C GREENWAY PLAZA 1183 1187 THE HORSLEY DR WETHERILL PARK 2164 NSW',\n",
       " 'TENANCY L01 C034B MACARTHUR SQUARE SHOPPING CENTRE 200 GILCHRIST DRIVE CAMPBELLTOWN 2560 NSW',\n",
       " '52 JONSON STREET BYRON BAY 2481 NSW',\n",
       " 'TENANCY GD W116 WOLLONGONG CENTRAL SHOPPING CENTRE KEIRA STREET WOLLONGONG 2500 NSW',\n",
       " '54 BAYLIS STREET WAGGA WAGGA 2650 NSW',\n",
       " 'SHOP 2 82 MULGOA RD PENRITH 2750 NSW',\n",
       " 'TENANCY R3001 PIAZZA AREA TOP RYDE SHOPPING CENTRE CNR BLAXLAND RD DEVLIN ST RYDE 2112 NSW',\n",
       " 'LEVEL 2 FOOD PRECINCT SHOP S219 BROADWAY SHOPPING CENTRE 1 BAY ST BROADWAY 2007 NSW',\n",
       " 'SHOP 304 326 CAMDEN VALLEY WAY NARELLAN 2567 NSW',\n",
       " 'SHOP T2 8 TOWER 2 DREAM DINING 201 SUSSEX ST SYDNEY 2000 NSW',\n",
       " 'SHOP E 05 14 DARLING DRIVE DARLING HARBOUR SYDNEY 2000 NSW',\n",
       " 'SHOP 30 30 33 HIBBERSON STREET GUNGAHLIN 2912 ACT',\n",
       " 'LOT 52 COOK DRIVE COFFS HARBOUR 2450 NSW',\n",
       " 'OUTLET 2 752 GEORGE STREET BLIGH PARK 2756 NSW',\n",
       " 'SHOP 4 140 MARSDEN ST PARRAMATTA 2150 NSW',\n",
       " '164 MONA VALE ROAD ST IVES 2057 NSW',\n",
       " '4 DUNHEVED ROAD WERRINGTON 2747 NSW',\n",
       " '1 MOLLY MORGAN DRIVE EAST MAITLAND 2323 NSW',\n",
       " 'SHOP 5 888 PITTWATER RD DEE WHY 2099 NSW',\n",
       " 'SHOP 31 FORTITUDE VALLEY EMPORIUM 1000 ANN STREET FORTITUDE VALLEY 4006 QLD',\n",
       " 'SHOP E116 THE ORACLE SHOPPING CENTRE 3 ORACLE BOULEVARDE OFF CHARLES AVENUE BROADBEACH 4218 QLD',\n",
       " 'SHOP 1204 WESTFIELD CARINDALE 1151 CREEK ROAD CARINDALE 4152 QLD',\n",
       " 'SHOP 1143 WESTFIELD NORTH LAKES CNR ANZAC AVE AND NORTH LAKES DRIVE NORTH LAKES 4509 QLD',\n",
       " '179 GREY STREET SOUTH BRISBANE 4101 QLD',\n",
       " 'ROBINA TOWN CENTRE SHOPPING CENTRE FOOD ATRIUM TENANCY 2037 19 ROBINA TOWN CENTRE DRIVE ROBINA 4230 QLD',\n",
       " 'SHOP 567 KAWANA SHOPPINGWORLD 119 POINT CARTWRIGHT DRIVE BUDDINA 4575 QLD',\n",
       " 'STOCKLAND GLADSTONE EAST MALL CORNER OF PHILIP STREET AND THE DAWSON HIGHWAY GLADSTONE 4680 QLD',\n",
       " 'SHOP 111 142 NEWMARKET RD WINDSOR 4030 QLD',\n",
       " 'SHOP 316C LOGAN HYPERDOME SHOPPING CENTRE LOGANHOLME 4129 QLD',\n",
       " 'SHOP B007 HARBOUR TOWN SHOPPING CENTRE 147 189 BRISBANE RD BIGGERA WATERS 4216 QLD',\n",
       " 'SHOP 022 PARADISE CENTRE CAVILL MALL 8 CAVILL AVENUE SURFERS PARADISE 4217 QLD',\n",
       " 'POST OFFICE SQUARE 215 ADELAIDE STREET BRISBANE 4000 QLD',\n",
       " 'TENANCY 5 CENTRAL VILLAGE LITTLE FLETCHER STREET TOWNSVILLE 4810 QLD',\n",
       " 'TENANCY R4 WESTFIELD CHERMSIDE CORNER GYMPIE AND HAMILTON ROAD CHERMSIDE 4032 QLD',\n",
       " 'TOOWONG VILLAGE 9 SHERWOOD ROAD TOOWONG 4066 QLD',\n",
       " 'SHOP 2 SUPER ROOSTER CENTRE 794A RUTHVEN STREET TOOWOOMBA SOUTH 4350 QLD',\n",
       " 'SHOP 13A 103 DUCKWORTH STREET GARBUTT 4814 QLD',\n",
       " '8 WALLA ST BUNDABERG 4670 QLD',\n",
       " 'BUILDING G 2 PAPPAS WAY CNR MORTENSEN ROAD AND PAPPAS WAY WEST NERANG 4211 QLD',\n",
       " 'TENANCY F2 STOCKLAND SHOPPING CENTRE 120 331 YAAMBA ROAD ROCKHAMPTON 4701 QLD',\n",
       " 'SHOP 18 BURANDA VILLAGE CNR IPSWICH RD CORNWALL ST WOOLLONGABBA 4102 QLD',\n",
       " 'LINK FOOD MARKET THE LINK BUILDING GRIFFITH UNIVERSITY GOLD COAST CAMPUS PARKLANDS DRIVE SOUTHPORT 4215 QLD',\n",
       " 'SHOP 0009 GRAND CENTRAL SHOPPING CENTRE CNR MARGARET STREET VICTORIA STREET TOOWOOMBA 4350 QLD',\n",
       " 'SHOP 1 1439 BEAUDESERT ROAD ACACIA RIDGE 4110 QLD',\n",
       " '1A 108 OLD CLEVELAND RD CAPALABA 4157 QLD',\n",
       " 'FS004 27 49 BROWNS PLAINS ROAD GRAND PLAZA BROWNS PLAINS 4118 QLD',\n",
       " 'TENANCY C 3 GATEWAY DRIVE AUGUSTINE HEIGHTS 4300 QLD',\n",
       " '1 BEACH RD MAROOCHYDORE 4558 QLD',\n",
       " 'BUILDING J 1 COMMERCIAL ST COOMERA 4209 QLD',\n",
       " 'PO2 STOCKLAND BURLEIGH HEADS 143 WEST BURLEIGH RD BURLEIGH HEAD 4220 QLD',\n",
       " 'SHOP 1105 L01 HIGHPOINT SHOPPING CENTRE 200 ROSAMOND RD MARIBYRNONG 3032 VIC',\n",
       " '289 299 SWANSTON ST MELBOURNE 3000 VIC',\n",
       " 'COLLINS PLACE FOOD COURT TENANCY 53 45 COLLINS STREET MELBOURNE 3000 VIC',\n",
       " 'SHOP 1118 WESTFIELD FOUNTAIN GATE 352 PRINCES HIGHWAY NARRE WARREN 3805 VIC',\n",
       " 'RE06 PACIFIC WERRIBEE SHOPPING CENTRE CNR DERRIMUT AND HEATHS ROADS WERRIBEE 3030 VIC',\n",
       " 'TENANCY 7AA 567 COLLINS ST MELBOURNE 3000 VIC',\n",
       " 'SHOP 6 7 190 TOORAK ROAD SOUTH YARRA 3141 VIC',\n",
       " '21 CHANCELLOR S WALK MONASH UNIVERSITY CLAYTON CAMPUS MELBOURNE 3800 VIC',\n",
       " 'SHOP 1 674 680 GLENFERRIE ROAD HAWTHORN 3122 VIC',\n",
       " '150 158 CONDON STREET KENNINGTON 3550 VIC',\n",
       " 'SHOP 18 KINGSTON CENTRAL PLAZA 288 CENTRE DANDENONG ROAD MENTONE 3194 VIC',\n",
       " 'CORNER SHARP RD ASSEMBLY DRIVE TULLAMARINE 3043 VIC',\n",
       " 'PAD SITE 1 CRANBOURNE HOMEMAKER CENTRE 398 SOUTH GIPPSLAND HWY CRANBOURNE 3977 VIC',\n",
       " '87 JAMES ST NORTHBRIDGE 6003 WA',\n",
       " '644 BEAUFORT STREET MT LAWLEY 6050 WA',\n",
       " 'TENANCY R5 COCKBURN GATEWAY SHOPPING CENTRE 816 BEELIAR DRIVE SUCCESS 6164 WA',\n",
       " '145 OXFORD STREET LEEDERVILLE 6007 WA',\n",
       " 'SHOP FB005 BELMONT FORUM SHOPPING CENTRE 227 BELMONT AVE CLOVERDALE 6105 WA',\n",
       " 'SHOP 1 316 CNR MARMION AND WHITFORD AVENUE HILLARYS 6025 WA',\n",
       " 'UNIT 2 319 NEW ENGLAND HIGHWAY RUTHERFORD 2320 NSW',\n",
       " 'CNR CHUNG WAH TCE LAMBRICK AVE BAKEWELL 832 NT',\n",
       " '726 DECEPTION BAY ROAD ROTHWELL 4022 QLD',\n",
       " 'BUILDING 63 TENANCY T3 UQ PHYSICAL THEATRE AND REFECTORY BUILDING UNIVERSITY OF QUEENSLAND 4072 QLD',\n",
       " 'CORNER CLEVELAND REDLAND BAY RD BUNKER RD VICTORIA POINT SHOPPING CENTRE VICTORIA POINT 4165 QLD',\n",
       " 'SHOP 2052 EASTLAND SHOPPING CENTRE 175 MAROONDAH HWY RINGWOOD 3134 VIC',\n",
       " 'BIRTINYA SERVICE CENTRE KAWANA WAY BIRTINYA 4575 QLD',\n",
       " '566 594 PRINCES HIGHWAY KIRRAWEE 2232 NSW',\n",
       " '249 MIDDLEBOROUGH ROAD BOX HILL 3128 VIC',\n",
       " '328 SALISBURY HIGHWAY SALISBURY DOWNS 5108 SA',\n",
       " '53 GOUGER ST ADELAIDE 5000 SA',\n",
       " '23 25 BURNS BAY ROAD LANE COVE 2066 NSW',\n",
       " 'SHOP 16 LEVEL 8 100 MILLER ST NORTH SYDNEY 2060 NSW',\n",
       " '11 6 8 CASTLE STREET CASTLE HILLS 2154 NSW',\n",
       " '90 ABBOTSFORD RD BOWEN HILLS 4006 QLD',\n",
       " 'SHOP 1 18 STAMFORD ROAD INDOOROOPILLY 4068 QLD',\n",
       " '33 KING WILLIAM STREET ADELAIDE 5000 SA',\n",
       " '325 NORTH EAST ROAD HILLCREST 5086 SA',\n",
       " '5 11 PATRICKS RD ARANA HILLS 4054 QLD',\n",
       " 'TENANCY 56 HOMEWORLD HELENSVALE 502 HOPE ISLAND ROAD HELENSVALE 4212 QLD',\n",
       " 'HAYNES SHOPPING CENTRE CORNER EIGHTH ROAD ARMADALE ROAD HAYNES 6442 WA',\n",
       " '491 MASONITE ROAD HEATHERBRAE 2324 NSW',\n",
       " 'SHOP 2 38 ABBOTT ROAD SEVEN HILLS 2147 NSW',\n",
       " 'SHOP 1 THE CONCOURSE 409 VICTORIA AVENUE CHATSWOOD 2067 NSW',\n",
       " 'SHOP 24A 100 PARRAMATTA ROAD AUBURN 2144 NSW',\n",
       " '5 PINE STREET NORTH IPSWICH 4305 QLD',\n",
       " 'R 12B 275 KENT ST SYDNEY 2000 NSW',\n",
       " '9 KING STREET WARNERS BAY 2282 NSW',\n",
       " '130 136 ANZAC HWY GLANDORE 5037 SA',\n",
       " '1382 ALBANY HIGHWAY CAROUSEL 6107 WA',\n",
       " 'TARNEIT CENTRAL 540 DERRIMUT ROAD TARNEIT 3029 VIC',\n",
       " 'CNR DEAKIN AVE FIFTEENTH STREET MILDURA 3500 VIC',\n",
       " 'KOTARA HOME CENTRE 1 KULLAIBA ROAD KOTARA 2289 NSW',\n",
       " 'SHOP 29 30 FORREST WAY SHOPPING CENTRE WARRINGAH ROAD FORREST WAY FRENCHS FOREST 2086 NSW',\n",
       " 'SHOP 9A VALLEY METRO 230 BRUNSWICK STREET FORTITUDE VALLEY 4006 QLD',\n",
       " 'SHOP NO FS1 STAFFORD CITY SHOPPING CENTRE 400 STAFFORD ROAD STAFFORD 4053 QLD',\n",
       " '421 LOGAN RIVER ROAD BETHANIA 4205 QLD',\n",
       " '3 GRAHAM AVENUE CASULA 2170 NSW',\n",
       " 'TENANCY 1 88 BUNDALL ROAD BUNDALL 4217 QLD',\n",
       " '47 MAROONDAH HWY CROYDON 3136 VIC',\n",
       " '24 ADELAIDE RD MT BARKER 5251 SA',\n",
       " '1 PARK PL CALOUNDRA 4551 QLD',\n",
       " '205 GOVERNMENT ROAD RICHLANDS 4077 QLD',\n",
       " '1 NEXUS DRIVE PIMPAMA 4209 QLD',\n",
       " 'F09 13 HERVEY RANGE ROAD THURINGOWA CENTRAL 4817 QLD',\n",
       " '460 GREENHILL RD LINDEN PARK 5065 SA',\n",
       " '2125 SANDGATE RD BOONDALL 4034 QLD',\n",
       " '647 651 WAVERLEY ROAD MALVERN EAST 3145 VIC',\n",
       " 'PART 71 FLEMINGTON ROAD MELBOURNE 3051 VIC',\n",
       " '179 203 BOAT HARBOUR DRIVE PIALBA 4655 QLD',\n",
       " '617 641 MAIN SOUTH RD OLD NOARLUNGA 5168 SA',\n",
       " 'TENANCY 1 507 515 PACIFIC HWY BELMONT 2280 NSW',\n",
       " 'PAD SITE 1 BURNSIDE PARK HUB WESTERN HIGHWAY BURNSIDE 3023 VIC',\n",
       " '158 164 HAWKESBURY RD WESTMEAD 2145 NSW',\n",
       " 'PAD 2 CNR 420 MILES PLATTING AND GARDNER ROADS ROCHEDALE 4123 QLD',\n",
       " 'CORNER OF HUME HIGHWAY AND MAHONEY S ROAD SYDNEY ROAD CAMPBELLFIELD 3061 VIC',\n",
       " 'SHOP FS002 206 WARNBRO SOUND AVENUE WARNBRO CENTRE WARNBRO 6169 WA',\n",
       " '74 PRINCES HWY 1 DEVENEY ST PAKENHAM 3810 VIC',\n",
       " 'PAD SITE 4 MORAYFIELD SUPER CENTRE 312 344 MORAYFIELD ROAD MORAYFIELD 4506 QLD',\n",
       " '1067 OXLEY HIGHWAY THRUMSTER 4222 NSW',\n",
       " '721 SEVENTEEN MILE ROCKS RD SINNAMON PARK JINDALEE 4073 QLD',\n",
       " 'CNR BALLARAT ROAD BUTLER STREET PADSITE 330 BALLARAT ROAD BRAYBROOK 3019 VIC',\n",
       " 'LOT 5 131 QUEEN ST SOUTHPORT 4215 QLD',\n",
       " '77 DALY STREET ASC ASCOT 6104 WA',\n",
       " '2 4 BATHURST STREET ORANGE 2800 NSW',\n",
       " '17 23 PUCKLE ST MOONEE PONDS 3039 VIC',\n",
       " 'CORNER MALAGA DRIVE BERINGARRA AVENUE MALAGA 6090 WA',\n",
       " 'SHOP EXT04 LAKE HAVEN SHOPPING CENTRE GOOBARABAH AVENUE LAKE HAVEN 2263 NSW',\n",
       " '34 STUART HIGHWAY STUART PARK 820 NT',\n",
       " 'PAD SITE 7 537 MULGRAVE RD EARLVILLE 4870 QLD',\n",
       " '357 SAMSONVALE RD WARNER 4500 QLD',\n",
       " '8 LAVER DRIVE ROBINA ROBINA 4226 QLD',\n",
       " '2269 MELTON HIGHWAY MELTON 3337 VIC',\n",
       " 'SHOPS 14 15 AND 16 MILTON VILLAGE 12 36 BAROONA ROAD MILTON 4064 QLD',\n",
       " '103 105 PRINCES HIGHWAY FAIRY MEADOW 2519 NSW',\n",
       " '30 LAKESIDE DR IDALIA 4811 QLD',\n",
       " '403 407 ELIZABETH AVENUE KIPPA RING 4021 QLD',\n",
       " '223 225 MARRICKVILLE ROAD MARRICKVILLE 2204 NSW',\n",
       " '239 GLENHUNTLY ROAD ELSTERNWICK 3185 VIC',\n",
       " '52 68 PRINCES HIGHWAY UNANDERRA 2526 NSW',\n",
       " '621 659 BELLARINE HIGHWAY LEOPOLD 3224 VIC',\n",
       " '226 BRIDGE STREET TAMWORTH 2340 NSW',\n",
       " 'CNR SHORE ST WEST AND WELLINGTON STREET CLEVELAND 4163 QLD',\n",
       " '1881 CREEK RD CANNON HILL 4170 QLD',\n",
       " '122 124 PLUNKETT STREET NOWRA 2541 NSW',\n",
       " '102 GREAT NORTH ROAD FIVE DOCK 2046 NSW',\n",
       " '2 LLOYDS LANE YATALA 4207 QLD',\n",
       " '74 STATION ST FAIRFIELD 3078 VIC',\n",
       " '1 SPITFIRE DRIVE DUBBO 2830 NSW',\n",
       " '331 RIPLEY RD RIPLEY 4306 QLD',\n",
       " '215 CAMPBELL ROAD CANNING VALE 6155 WA',\n",
       " '417 BRIDGE STREET WILSONTON 4350 QLD',\n",
       " 'BUILDING 1 539 SOUTHPORT NERANG ROAD MOLENDINAR 4214 QLD',\n",
       " '66 70 BRIGHTON ROAD GLENELG 5045 SA',\n",
       " 'SHOP 14 178 CAMPBELL PARADE BONDI BEACH 2026 NSW',\n",
       " '306 ALICE STREET MARYBOROUGH 4650 QLD',\n",
       " '110 ELIZABETH STREET TIGHES HILL 2297 NSW',\n",
       " '78 SYDNEY ROAD BRUNSWICK 3056 VIC',\n",
       " 'STOCKLAND VILLAGE 304 GILLIES STREET N WENDOUREE 3355 VIC',\n",
       " '11A MONTGOMERY STREET KOGARAH 2217 NSW',\n",
       " '180 220 SOMERTON ROAD ROXBURGH 3064 VIC',\n",
       " '10 12 ANZAC ROAD TUGGERAH 2259 NSW',\n",
       " '93 FITZROY ST ROCKHAMPTON 4700 QLD',\n",
       " '115 RIVER ROAD GYMPIE 4570 QLD']"
      ]
     },
     "execution_count": 18,
     "metadata": {},
     "output_type": "execute_result"
    }
   ],
   "source": [
    "list(addresses_gyg)"
   ]
  },
  {
   "cell_type": "code",
   "execution_count": 20,
   "id": "7d375bb7-c5e5-4da2-bd9e-612deb47dbdf",
   "metadata": {},
   "outputs": [],
   "source": [
    "# use matcher pipeline\n",
    "results_gyg = matcher1.geocode(list(addresses_gyg))"
   ]
  },
  {
   "cell_type": "code",
   "execution_count": 22,
   "id": "9c9bcbdf-3340-49f8-9a8f-95da1b1e6a64",
   "metadata": {},
   "outputs": [],
   "source": [
    "df_results = pd.DataFrame(data=results_gyg)\n",
    "df_results.to_csv('gyg_experiment_whereabouts_030924.csv', index=False)"
   ]
  },
  {
   "cell_type": "code",
   "execution_count": 24,
   "id": "3784e3a0-c384-4988-943a-baeb6171535d",
   "metadata": {},
   "outputs": [],
   "source": [
    "results_rea = pipeline.geocode(list(addresses_rea))"
   ]
  },
  {
   "cell_type": "code",
   "execution_count": 25,
   "id": "cec882fb-d4e7-454f-954e-517075d41ec9",
   "metadata": {},
   "outputs": [],
   "source": [
    "df_results = pd.DataFrame(data=results_rea)\n",
    "df_results.to_csv('rea_experiment_whereabouts_030924.csv', index=False)"
   ]
  },
  {
   "cell_type": "markdown",
   "id": "bb74301c-a0a5-46c3-accc-8bbf7a2902ab",
   "metadata": {},
   "source": [
    "## Nominatim"
   ]
  },
  {
   "cell_type": "code",
   "execution_count": 27,
   "id": "5afdf75e-d5a2-49cd-918c-b6d25b1ea09d",
   "metadata": {},
   "outputs": [],
   "source": [
    "headers = {\n",
    "    \"User-Agent\": \"GeoTesting/1.0 (ajlee3141@gmail.com)\"\n",
    "}\n"
   ]
  },
  {
   "cell_type": "code",
   "execution_count": 28,
   "id": "686b3db5-35f4-4e1a-9ec5-602d9665c0d3",
   "metadata": {},
   "outputs": [],
   "source": [
    "# add country name to addresses\n",
    "addresses_gyg = [address + ' AUSTRALIA' for address in addresses_gyg]\n",
    "addresses_rea = [address + ' AUSTRALIA' for address in addresses_rea]"
   ]
  },
  {
   "cell_type": "code",
   "execution_count": 29,
   "id": "8dce38f3-32ba-497f-bedb-93d5d54bd301",
   "metadata": {},
   "outputs": [
    {
     "name": "stdout",
     "output_type": "stream",
     "text": [
      "Geocoding 5 Dylan Crt, Stanthorpe, Qld 4380 AUSTRALIA\n",
      "Geocoding 23 Northbridge Road, Highton, Vic 3216 AUSTRALIA\n",
      "Geocoding 62 Radstock Avenue, Highton, Vic 3216 AUSTRALIA\n",
      "Geocoding Lot 3 Texas Road, Stanthorpe, Qld 4380 AUSTRALIA\n",
      "Geocoding 44 Verner Street, South Geelong, Vic 3220 AUSTRALIA\n",
      "Geocoding 616 Woodhill Mountain Road, Woodhill, NSW 2535 AUSTRALIA\n",
      "Geocoding 501/567 Pacific Hwy, St Leonards, NSW 2065 AUSTRALIA\n",
      "Geocoding Unit 3/16 Poinciana Bvd, Cardwell, Qld 4849 AUSTRALIA\n",
      "Geocoding Lot 3, 232 Sugarloaf Road, Stanthorpe, Qld 4380 AUSTRALIA\n",
      "Geocoding 10/57-59 Lachlan Street, Warwick Farm, NSW 2170 AUSTRALIA\n",
      "Geocoding 10 Ilaroo Crescent, Warana, Qld 4575 AUSTRALIA\n",
      "Geocoding 801/51 Chandos Street, St Leonards, NSW 2065 AUSTRALIA\n",
      "Geocoding 75 Reema Boulevard, Endeavour Hills, Vic 3802 AUSTRALIA\n",
      "Geocoding 29 Jamieson St, Cardwell, Qld 4849 AUSTRALIA\n",
      "Geocoding 31/89-91 Hughes Street, Cabramatta, NSW 2166 AUSTRALIA\n",
      "Geocoding 2/11 Cedarville Close, Highton, Vic 3216 AUSTRALIA\n",
      "Geocoding 1201/29 HUNTER STREET, Parramatta, NSW 2150 AUSTRALIA\n",
      "Geocoding 13 Mainsbridge Avenue, Liverpool, NSW 2170 AUSTRALIA\n",
      "Geocoding 1307 Midge Point Road, Midge Point, Qld 4799 AUSTRALIA\n",
      "Geocoding 2 Sexton Court, Endeavour Hills, Vic 3802 AUSTRALIA\n",
      "Geocoding 1208/44 Ryrie Street, Geelong, Vic 3220 AUSTRALIA\n",
      "Geocoding 3 Cedar Drive, Dunoon, NSW 2480 AUSTRALIA\n",
      "Geocoding 4 Northbridge Road, Highton, Vic 3216 AUSTRALIA\n",
      "Geocoding 12 Bowlers Avenue, Geelong West, Vic 3218 AUSTRALIA\n",
      "Geocoding Level 30 / 500 Pacific Highway, St Leonards, NSW 2065 AUSTRALIA\n",
      "Geocoding 2 & 16/60 South Terrace, Adelaide, SA 5000 AUSTRALIA\n",
      "Geocoding 222 Shannon Avenue, Geelong West, Vic 3218 AUSTRALIA\n",
      "Geocoding 55 Nedlands Drive, Highton, Vic 3216 AUSTRALIA\n",
      "Geocoding 7/73 Parraween Street, Cremorne, NSW 2090 AUSTRALIA\n",
      "Geocoding 2201/17 Penny Place, Adelaide, SA 5000 AUSTRALIA\n",
      "Geocoding 15/5-7 Bombala Terrace, Caloundra, Qld 4551 AUSTRALIA\n",
      "Geocoding 21 Rathgar Road, Lysterfield, Vic 3156 AUSTRALIA\n",
      "Geocoding 1107/3 Herbert Street, St Leonards, NSW 2065 AUSTRALIA\n",
      "Geocoding 9/45 Walkers Drive, Lane Cove, NSW 2066 AUSTRALIA\n",
      "Geocoding 454 & 454a McEdward Street, Birdwoodton, Vic 3505 AUSTRALIA\n",
      "Geocoding 264 North Terrace, Adelaide, SA 5000 AUSTRALIA\n",
      "Geocoding 4 Mayton Court, Grovedale, Vic 3216 AUSTRALIA\n",
      "Geocoding 63/118 Adderton Road, Carlingford, NSW 2118 AUSTRALIA\n",
      "Geocoding 11 Leilani Court, Highton, Vic 3216 AUSTRALIA\n",
      "Geocoding 90 Major Crescent, Lysterfield, Vic 3156 AUSTRALIA\n",
      "Geocoding 5 Grantchester Road, Narre Warren North, Vic 3804 AUSTRALIA\n",
      "Geocoding 10 Aitkenside Avenue, Highton, Vic 3216 AUSTRALIA\n",
      "Geocoding 77 Postmans Ridge Road, Helidon Spa, Qld 4344 AUSTRALIA\n",
      "Geocoding 105/2 Marcus Clarke Street, City, ACT 2601 AUSTRALIA\n",
      "Geocoding 3741 The Bucketts Way, Krambach, NSW 2429 AUSTRALIA\n",
      "Geocoding 44 Mandara Drive, Wurtulla, Qld 4575 AUSTRALIA\n",
      "Geocoding UNIT 14/3 LONDON CIRCUIT, City, ACT 2601 AUSTRALIA\n",
      "Geocoding 76 Bathurst Street, Elliott Heads, Qld 4670 AUSTRALIA\n",
      "Geocoding 711/1 Sergeants Lane, St Leonards, NSW 2065 AUSTRALIA\n",
      "Geocoding 5 Jessica Way, Highton, Vic 3216 AUSTRALIA\n",
      "Geocoding 56 Needes Hill Rd, Brookhampton, WA 6239 AUSTRALIA\n",
      "Geocoding 8 Carolyn Close, Kariong, NSW 2250 AUSTRALIA\n",
      "Geocoding 8/68-70 Faunce Street West, Gosford, NSW 2250 AUSTRALIA\n",
      "Geocoding 2305/2A Help Street, Chatswood, NSW 2067 AUSTRALIA\n",
      "Geocoding 201/13-19 Canberra Avenue, St Leonards, NSW 2065 AUSTRALIA\n",
      "Geocoding 1107/19 Marcus Clarke Street, City, ACT 2601 AUSTRALIA\n",
      "Geocoding 908/35 Corio Street, Geelong, Vic 3220 AUSTRALIA\n",
      "Geocoding 25 Yale Close, North Rocks, NSW 2151 AUSTRALIA\n",
      "Geocoding 44 Francis Crescent, Ferntree Gully, Vic 3156 AUSTRALIA\n",
      "Geocoding Lot 4, 232 Sugarloaf Road, Stanthorpe, Qld 4380 AUSTRALIA\n",
      "Geocoding 11 Wiangaree Drive, Rangeville, Qld 4350 AUSTRALIA\n",
      "Geocoding Lot 671, 37 Frogmore Way, Highton, Vic 3216 AUSTRALIA\n",
      "Geocoding 3/17 Granby Crescent, Highton, Vic 3216 AUSTRALIA\n",
      "Geocoding 1609/1 Sergeants Lane, St Leonards, NSW 2065 AUSTRALIA\n",
      "Geocoding 73 Macquarie Street, Jamberoo, NSW 2533 AUSTRALIA\n",
      "Geocoding Unit 2404 'ZINC' 42 Bokarina Boulevard, Bokarina, Qld 4575 AUSTRALIA\n",
      "Geocoding 536 Philps Road, Grantham, Qld 4347 AUSTRALIA\n",
      "Geocoding 615 Delta Road, Curlwaa, NSW 2648 AUSTRALIA\n",
      "Geocoding 52 Majestic Drive, Highton, Vic 3216 AUSTRALIA\n",
      "Geocoding 7/143 Barrabool Road, Highton, Vic 3216 AUSTRALIA\n",
      "Geocoding 67 Barrys Road, Modanville, NSW 2480 AUSTRALIA\n",
      "Geocoding 18/32 Station Street, Dundas, NSW 2117 AUSTRALIA\n",
      "Geocoding 34/51 Bonnyrigg Avenue, Bonnyrigg, NSW 2177 AUSTRALIA\n",
      "Geocoding 13 Watersedge Terrace, Highton, Vic 3216 AUSTRALIA\n",
      "Geocoding 413/240 Bunda Street, City, ACT 2601 AUSTRALIA\n",
      "Geocoding Unit 2/29-31 Keith Williams Dr, Cardwell, Qld 4849 AUSTRALIA\n",
      "Geocoding 5 Brooks Road, Sarina, Qld 4737 AUSTRALIA\n",
      "Geocoding 3 Fairfax Court, Innes Park, Qld 4670 AUSTRALIA\n",
      "Geocoding 1007/25 Mann Street, Gosford, NSW 2250 AUSTRALIA\n",
      "Geocoding 501/65 Cooyong Street, Braddon, ACT 2612 AUSTRALIA\n",
      "Geocoding 12 Fords Road, Geeveston, Tas 7116 AUSTRALIA\n",
      "Geocoding 2503/1A Morton Street, Parramatta, NSW 2150 AUSTRALIA\n",
      "Geocoding 2008/88A Christie Street, St Leonards, NSW 2065 AUSTRALIA\n",
      "Geocoding 2608/1 Sergeants Lane, St Leonards, NSW 2065 AUSTRALIA\n",
      "Geocoding 705/225 Pacific Highway, North Sydney, NSW 2060 AUSTRALIA\n",
      "Geocoding 1/7 Croydon Avenue, Currimundi, Qld 4551 AUSTRALIA\n",
      "Geocoding 313 Wattle Grove Road, Wattle Grove, Tas 7109 AUSTRALIA\n",
      "Geocoding 2K/15 Campbell Street, Parramatta, NSW 2150 AUSTRALIA\n",
      "Geocoding 2 Shoubra Drive, Highton, Vic 3216 AUSTRALIA\n",
      "Geocoding 629/81 Cooyong Street, Reid, ACT 2612 AUSTRALIA\n",
      "Geocoding 25 Britannia Street, Geelong West, Vic 3218 AUSTRALIA\n",
      "Geocoding 1209/225 Pacific Hwy, North Sydney, NSW 2060 AUSTRALIA\n",
      "Geocoding 11 Thwaites Close, Highton, Vic 3216 AUSTRALIA\n",
      "Geocoding 5 Diamond Close, Ferntree Gully, Vic 3156 AUSTRALIA\n",
      "Geocoding 16 King Street, Kings Beach, Qld 4551 AUSTRALIA\n",
      "Geocoding 207 Victoria Street, Cardwell, Qld 4849 AUSTRALIA\n",
      "Geocoding 421 Cabramatta Road, Cabramatta, NSW 2166 AUSTRALIA\n",
      "Geocoding 712/2 Akuna Street, City, ACT 2601 AUSTRALIA\n",
      "Geocoding 40 Tate Place, Jamberoo, NSW 2533 AUSTRALIA\n",
      "Geocoding 49 Honiton Avenue W, Carlingford, NSW 2118 AUSTRALIA\n",
      "Geocoding 52 Vallah Lane, Stanthorpe, Qld 4380 AUSTRALIA\n",
      "Geocoding 392 Woongarra Scenic Drive, Innes Park, Qld 4670 AUSTRALIA\n",
      "Geocoding 124-126 Grantham Drive, Highton, Vic 3216 AUSTRALIA\n",
      "Geocoding Lot 44 Tantaus Road, Dereel, Vic 3352 AUSTRALIA\n",
      "Geocoding 18 River Road, Woodford, Vic 3281 AUSTRALIA\n",
      "Geocoding 1004/6-10 Charles Street, Parramatta, NSW 2150 AUSTRALIA\n",
      "Geocoding 16 Karingal Avenue, Carlingford, NSW 2118 AUSTRALIA\n",
      "Geocoding 16 Kombi Street, Bokarina, Qld 4575 AUSTRALIA\n",
      "Geocoding 315/10 Leeding Terrace, Caloundra, Qld 4551 AUSTRALIA\n",
      "Geocoding 32/30 Burgoyne Street, Roxby Downs, SA 5725 AUSTRALIA\n",
      "Geocoding 1/12 Redgrove Street, Green Point, NSW 2251 AUSTRALIA\n",
      "Geocoding 508/44 Ryrie Street, Geelong, Vic 3220 AUSTRALIA\n",
      "Geocoding Lot 1-3, 29 Daranda Terrace, Milang, SA 5256 AUSTRALIA\n",
      "Geocoding 38/1 Provan Street, Campbell, ACT 2612 AUSTRALIA\n",
      "Geocoding 6 Symes Street, Stanthorpe, Qld 4380 AUSTRALIA\n",
      "Geocoding 401 & 402/115 Bulcock Street, Caloundra, Qld 4551 AUSTRALIA\n",
      "Geocoding 8A Everett Avenue, Dulwich, SA 5065 AUSTRALIA\n",
      "Geocoding 31 Olive Avenue, Phegans Bay, NSW 2256 AUSTRALIA\n",
      "Geocoding 2 Tuckeroo Close, Coral Cove, Qld 4670 AUSTRALIA\n",
      "Geocoding 2/260 Roslyn Road, Highton, Vic 3216 AUSTRALIA\n",
      "Geocoding 1/48 Augustine Drive, Highton, Vic 3216 AUSTRALIA\n",
      "Geocoding 805/88 Church Street, Parramatta, NSW 2150 AUSTRALIA\n",
      "Geocoding 7/1 Oliver Road, Chatswood, NSW 2067 AUSTRALIA\n",
      "Geocoding 18 Minkara Street, Warana, Qld 4575 AUSTRALIA\n",
      "Geocoding 20 Davison Road, Wilson Beach, Qld 4800 AUSTRALIA\n",
      "Geocoding 4 Tom Gearon Court, Narre Warren North, Vic 3804 AUSTRALIA\n",
      "Geocoding 64 South Valley Road, Highton, Vic 3216 AUSTRALIA\n",
      "Geocoding 12/80 Wattle Street, Fullarton, SA 5063 AUSTRALIA\n"
     ]
    }
   ],
   "source": [
    "all_results = []\n",
    "\n",
    "for address in addresses_rea:\n",
    "    sleep(1)\n",
    "    print(f'Geocoding {address}')\n",
    "    address_new = address.replace(' ', '+')\n",
    "    url_base = 'https://nominatim.openstreetmap.org/search'\n",
    "    params = {'q': address_new,\n",
    "              'format': 'json',\n",
    "              'addressdetails': 1}\n",
    "    page = requests.get(url_base, params=params, headers=headers)\n",
    "    results = page.json()\n",
    "    if isinstance(results, list):\n",
    "        if len(results) > 0:\n",
    "            results_new = results[0]\n",
    "            all_results.append(results_new)\n",
    "        else:\n",
    "            all_results.append({})\n",
    "    elif isinstance(results, dict):\n",
    "        results_new = results\n",
    "        all_results.append(results_new)\n",
    "    else:\n",
    "        all_results.append({})\n",
    "    "
   ]
  },
  {
   "cell_type": "code",
   "execution_count": 21,
   "id": "ef390c1c-a3cd-4566-bc25-e7b85c37356a",
   "metadata": {},
   "outputs": [],
   "source": [
    "# write the results\n",
    "(\n",
    "    pd.DataFrame(all_results)\n",
    "    .assign(input_address=addresses_rea)\n",
    "    .to_csv('rea_experiments_nominatim_030924.csv', index=False)\n",
    ")"
   ]
  },
  {
   "cell_type": "markdown",
   "id": "39b08e6a-0275-42a7-ac3f-74a580733dda",
   "metadata": {},
   "source": [
    "## Googlemaps API"
   ]
  },
  {
   "cell_type": "code",
   "execution_count": 90,
   "id": "5c605d43-a0a9-4f21-8a6a-0e5efc47f185",
   "metadata": {},
   "outputs": [],
   "source": [
    "api_key = '' # set this"
   ]
  },
  {
   "cell_type": "code",
   "execution_count": null,
   "id": "7266f1ea-e33b-4b5d-95f0-0a3e424a3f08",
   "metadata": {},
   "outputs": [],
   "source": [
    "url_base = 'https://maps.googleapis.com/maps/api/geocode/json'"
   ]
  },
  {
   "cell_type": "code",
   "execution_count": 92,
   "id": "1783a27d-8625-4a2a-9f1e-220bf67ae661",
   "metadata": {},
   "outputs": [
    {
     "name": "stdout",
     "output_type": "stream",
     "text": [
      "Geocoding 5 Dylan Crt, Stanthorpe, Qld 4380\n",
      "Geocoding 23 Northbridge Road, Highton, Vic 3216\n",
      "Geocoding 62 Radstock Avenue, Highton, Vic 3216\n",
      "Geocoding Lot 3 Texas Road, Stanthorpe, Qld 4380\n",
      "Geocoding 44 Verner Street, South Geelong, Vic 3220\n",
      "Geocoding 616 Woodhill Mountain Road, Woodhill, NSW 2535\n",
      "Geocoding 501/567 Pacific Hwy, St Leonards, NSW 2065\n",
      "Geocoding Unit 3/16 Poinciana Bvd, Cardwell, Qld 4849\n",
      "Geocoding Lot 3, 232 Sugarloaf Road, Stanthorpe, Qld 4380\n",
      "Geocoding 10/57-59 Lachlan Street, Warwick Farm, NSW 2170\n",
      "Geocoding 10 Ilaroo Crescent, Warana, Qld 4575\n",
      "Geocoding 801/51 Chandos Street, St Leonards, NSW 2065\n",
      "Geocoding 75 Reema Boulevard, Endeavour Hills, Vic 3802\n",
      "Geocoding 29 Jamieson St, Cardwell, Qld 4849\n",
      "Geocoding 31/89-91 Hughes Street, Cabramatta, NSW 2166\n",
      "Geocoding 2/11 Cedarville Close, Highton, Vic 3216\n",
      "Geocoding 1201/29 HUNTER STREET, Parramatta, NSW 2150\n",
      "Geocoding 13 Mainsbridge Avenue, Liverpool, NSW 2170\n",
      "Geocoding 1307 Midge Point Road, Midge Point, Qld 4799\n",
      "Geocoding 2 Sexton Court, Endeavour Hills, Vic 3802\n",
      "Geocoding 1208/44 Ryrie Street, Geelong, Vic 3220\n",
      "Geocoding 3 Cedar Drive, Dunoon, NSW 2480\n",
      "Geocoding 4 Northbridge Road, Highton, Vic 3216\n",
      "Geocoding 12 Bowlers Avenue, Geelong West, Vic 3218\n",
      "Geocoding Level 30 / 500 Pacific Highway, St Leonards, NSW 2065\n",
      "Geocoding 2 & 16/60 South Terrace, Adelaide, SA 5000\n",
      "Geocoding 222 Shannon Avenue, Geelong West, Vic 3218\n",
      "Geocoding 55 Nedlands Drive, Highton, Vic 3216\n",
      "Geocoding 7/73 Parraween Street, Cremorne, NSW 2090\n",
      "Geocoding 2201/17 Penny Place, Adelaide, SA 5000\n",
      "Geocoding 15/5-7 Bombala Terrace, Caloundra, Qld 4551\n",
      "Geocoding 21 Rathgar Road, Lysterfield, Vic 3156\n",
      "Geocoding 1107/3 Herbert Street, St Leonards, NSW 2065\n",
      "Geocoding 9/45 Walkers Drive, Lane Cove, NSW 2066\n",
      "Geocoding 454 & 454a McEdward Street, Birdwoodton, Vic 3505\n",
      "Geocoding 264 North Terrace, Adelaide, SA 5000\n",
      "Geocoding 4 Mayton Court, Grovedale, Vic 3216\n",
      "Geocoding 63/118 Adderton Road, Carlingford, NSW 2118\n",
      "Geocoding 11 Leilani Court, Highton, Vic 3216\n",
      "Geocoding 90 Major Crescent, Lysterfield, Vic 3156\n",
      "Geocoding 5 Grantchester Road, Narre Warren North, Vic 3804\n",
      "Geocoding 10 Aitkenside Avenue, Highton, Vic 3216\n",
      "Geocoding 77 Postmans Ridge Road, Helidon Spa, Qld 4344\n",
      "Geocoding 105/2 Marcus Clarke Street, City, ACT 2601\n",
      "Geocoding 3741 The Bucketts Way, Krambach, NSW 2429\n",
      "Geocoding 44 Mandara Drive, Wurtulla, Qld 4575\n",
      "Geocoding UNIT 14/3 LONDON CIRCUIT, City, ACT 2601\n",
      "Geocoding 76 Bathurst Street, Elliott Heads, Qld 4670\n",
      "Geocoding 711/1 Sergeants Lane, St Leonards, NSW 2065\n",
      "Geocoding 5 Jessica Way, Highton, Vic 3216\n",
      "Geocoding 56 Needes Hill Rd, Brookhampton, WA 6239\n",
      "Geocoding 8 Carolyn Close, Kariong, NSW 2250\n",
      "Geocoding 8/68-70 Faunce Street West, Gosford, NSW 2250\n",
      "Geocoding 2305/2A Help Street, Chatswood, NSW 2067\n",
      "Geocoding 201/13-19 Canberra Avenue, St Leonards, NSW 2065\n",
      "Geocoding 1107/19 Marcus Clarke Street, City, ACT 2601\n",
      "Geocoding 908/35 Corio Street, Geelong, Vic 3220\n",
      "Geocoding 25 Yale Close, North Rocks, NSW 2151\n",
      "Geocoding 44 Francis Crescent, Ferntree Gully, Vic 3156\n",
      "Geocoding Lot 4, 232 Sugarloaf Road, Stanthorpe, Qld 4380\n",
      "Geocoding 11 Wiangaree Drive, Rangeville, Qld 4350\n",
      "Geocoding Lot 671, 37 Frogmore Way, Highton, Vic 3216\n",
      "Geocoding 3/17 Granby Crescent, Highton, Vic 3216\n",
      "Geocoding 1609/1 Sergeants Lane, St Leonards, NSW 2065\n",
      "Geocoding 73 Macquarie Street, Jamberoo, NSW 2533\n",
      "Geocoding Unit 2404 'ZINC' 42 Bokarina Boulevard, Bokarina, Qld 4575\n",
      "Geocoding 536 Philps Road, Grantham, Qld 4347\n",
      "Geocoding 615 Delta Road, Curlwaa, NSW 2648\n",
      "Geocoding 52 Majestic Drive, Highton, Vic 3216\n",
      "Geocoding 7/143 Barrabool Road, Highton, Vic 3216\n",
      "Geocoding 67 Barrys Road, Modanville, NSW 2480\n",
      "Geocoding 18/32 Station Street, Dundas, NSW 2117\n",
      "Geocoding 34/51 Bonnyrigg Avenue, Bonnyrigg, NSW 2177\n",
      "Geocoding 13 Watersedge Terrace, Highton, Vic 3216\n",
      "Geocoding 413/240 Bunda Street, City, ACT 2601\n",
      "Geocoding Unit 2/29-31 Keith Williams Dr, Cardwell, Qld 4849\n",
      "Geocoding 5 Brooks Road, Sarina, Qld 4737\n",
      "Geocoding 3 Fairfax Court, Innes Park, Qld 4670\n",
      "Geocoding 1007/25 Mann Street, Gosford, NSW 2250\n",
      "Geocoding 501/65 Cooyong Street, Braddon, ACT 2612\n",
      "Geocoding 12 Fords Road, Geeveston, Tas 7116\n",
      "Geocoding 2503/1A Morton Street, Parramatta, NSW 2150\n",
      "Geocoding 2008/88A Christie Street, St Leonards, NSW 2065\n",
      "Geocoding 2608/1 Sergeants Lane, St Leonards, NSW 2065\n",
      "Geocoding 705/225 Pacific Highway, North Sydney, NSW 2060\n",
      "Geocoding 1/7 Croydon Avenue, Currimundi, Qld 4551\n",
      "Geocoding 313 Wattle Grove Road, Wattle Grove, Tas 7109\n",
      "Geocoding 2K/15 Campbell Street, Parramatta, NSW 2150\n",
      "Geocoding 2 Shoubra Drive, Highton, Vic 3216\n",
      "Geocoding 629/81 Cooyong Street, Reid, ACT 2612\n",
      "Geocoding 25 Britannia Street, Geelong West, Vic 3218\n",
      "Geocoding 1209/225 Pacific Hwy, North Sydney, NSW 2060\n",
      "Geocoding 11 Thwaites Close, Highton, Vic 3216\n",
      "Geocoding 5 Diamond Close, Ferntree Gully, Vic 3156\n",
      "Geocoding 16 King Street, Kings Beach, Qld 4551\n",
      "Geocoding 207 Victoria Street, Cardwell, Qld 4849\n",
      "Geocoding 421 Cabramatta Road, Cabramatta, NSW 2166\n",
      "Geocoding 712/2 Akuna Street, City, ACT 2601\n",
      "Geocoding 40 Tate Place, Jamberoo, NSW 2533\n",
      "Geocoding 49 Honiton Avenue W, Carlingford, NSW 2118\n",
      "Geocoding 52 Vallah Lane, Stanthorpe, Qld 4380\n",
      "Geocoding 392 Woongarra Scenic Drive, Innes Park, Qld 4670\n",
      "Geocoding 124-126 Grantham Drive, Highton, Vic 3216\n",
      "Geocoding Lot 44 Tantaus Road, Dereel, Vic 3352\n",
      "Geocoding 18 River Road, Woodford, Vic 3281\n",
      "Geocoding 1004/6-10 Charles Street, Parramatta, NSW 2150\n",
      "Geocoding 16 Karingal Avenue, Carlingford, NSW 2118\n",
      "Geocoding 16 Kombi Street, Bokarina, Qld 4575\n",
      "Geocoding 315/10 Leeding Terrace, Caloundra, Qld 4551\n",
      "Geocoding 32/30 Burgoyne Street, Roxby Downs, SA 5725\n",
      "Geocoding 1/12 Redgrove Street, Green Point, NSW 2251\n",
      "Geocoding 508/44 Ryrie Street, Geelong, Vic 3220\n",
      "Geocoding Lot 1-3, 29 Daranda Terrace, Milang, SA 5256\n",
      "Geocoding 38/1 Provan Street, Campbell, ACT 2612\n",
      "Geocoding 6 Symes Street, Stanthorpe, Qld 4380\n",
      "Geocoding 401 & 402/115 Bulcock Street, Caloundra, Qld 4551\n",
      "Geocoding 8A Everett Avenue, Dulwich, SA 5065\n",
      "Geocoding 31 Olive Avenue, Phegans Bay, NSW 2256\n",
      "Geocoding 2 Tuckeroo Close, Coral Cove, Qld 4670\n",
      "Geocoding 2/260 Roslyn Road, Highton, Vic 3216\n",
      "Geocoding 1/48 Augustine Drive, Highton, Vic 3216\n",
      "Geocoding 805/88 Church Street, Parramatta, NSW 2150\n",
      "Geocoding 7/1 Oliver Road, Chatswood, NSW 2067\n",
      "Geocoding 18 Minkara Street, Warana, Qld 4575\n",
      "Geocoding 20 Davison Road, Wilson Beach, Qld 4800\n",
      "Geocoding 4 Tom Gearon Court, Narre Warren North, Vic 3804\n",
      "Geocoding 64 South Valley Road, Highton, Vic 3216\n",
      "Geocoding 12/80 Wattle Street, Fullarton, SA 5063\n"
     ]
    }
   ],
   "source": [
    "all_results = []\n",
    "\n",
    "dfs = []\n",
    "\n",
    "for address in addresses_rea:\n",
    "    print(f'Geocoding {address}')\n",
    "    address_new = address.replace(' ', '+')\n",
    "    params = {'address': address_new, 'key': api_key}\n",
    "    page = requests.get(url=url_base, params=params)\n",
    "    df_temp = (\n",
    "        pd.DataFrame(page.json()['results'][0]['address_components'])[['long_name']]\n",
    "        .T\n",
    "        .reset_index()\n",
    "        .rename(columns={0: 'number', 1: 'street', 2: 'name', 3: 'suburb', 4: 'state', 5: 'country', 6: 'postcode'})\n",
    "    )\n",
    "    dfs.append(df_temp)"
   ]
  },
  {
   "cell_type": "code",
   "execution_count": 1,
   "id": "1122cab4-9ed0-4b82-961f-1cccdae0744f",
   "metadata": {},
   "outputs": [],
   "source": [
    "# write the results\n",
    "(\n",
    "    pd.concat(dfs)\n",
    "    .assign(input_address=addresses_rea)\n",
    "    .to_csv('/rea_experiments_google_030924.csv', index=False)\n",
    ")"
   ]
  },
  {
   "cell_type": "markdown",
   "id": "c4cb418e-59db-4ac5-9355-62627f3686e4",
   "metadata": {},
   "source": [
    "## Mapbox\n"
   ]
  },
  {
   "cell_type": "code",
   "execution_count": 77,
   "id": "d40095f2-c57b-427f-ab89-5a804449fc75",
   "metadata": {},
   "outputs": [],
   "source": [
    "access_token = '' # set this"
   ]
  },
  {
   "cell_type": "code",
   "execution_count": 78,
   "id": "73c924be-02a3-48a3-a63f-21c4690ea09a",
   "metadata": {},
   "outputs": [],
   "source": [
    "url_base = 'https://api.mapbox.com/search/geocode/v6/forward'\n",
    "url_full = f'{url_base}?q={address}&access_token='+access_token"
   ]
  },
  {
   "cell_type": "code",
   "execution_count": 85,
   "id": "35f1783c-f392-4bef-a9e5-b0d7cf98d9d8",
   "metadata": {},
   "outputs": [
    {
     "name": "stdout",
     "output_type": "stream",
     "text": [
      "Geocoding 5 Dylan Crt, Stanthorpe, Qld 4380\n",
      "Geocoding 23 Northbridge Road, Highton, Vic 3216\n",
      "Geocoding 62 Radstock Avenue, Highton, Vic 3216\n",
      "Geocoding Lot 3 Texas Road, Stanthorpe, Qld 4380\n",
      "Geocoding 44 Verner Street, South Geelong, Vic 3220\n",
      "Geocoding 616 Woodhill Mountain Road, Woodhill, NSW 2535\n",
      "Geocoding 501/567 Pacific Hwy, St Leonards, NSW 2065\n",
      "Geocoding Unit 3/16 Poinciana Bvd, Cardwell, Qld 4849\n",
      "Geocoding Lot 3, 232 Sugarloaf Road, Stanthorpe, Qld 4380\n",
      "Geocoding 10/57-59 Lachlan Street, Warwick Farm, NSW 2170\n",
      "Geocoding 10 Ilaroo Crescent, Warana, Qld 4575\n",
      "Geocoding 801/51 Chandos Street, St Leonards, NSW 2065\n",
      "Geocoding 75 Reema Boulevard, Endeavour Hills, Vic 3802\n",
      "Geocoding 29 Jamieson St, Cardwell, Qld 4849\n",
      "Geocoding 31/89-91 Hughes Street, Cabramatta, NSW 2166\n",
      "Geocoding 2/11 Cedarville Close, Highton, Vic 3216\n",
      "Geocoding 1201/29 HUNTER STREET, Parramatta, NSW 2150\n",
      "Geocoding 13 Mainsbridge Avenue, Liverpool, NSW 2170\n",
      "Geocoding 1307 Midge Point Road, Midge Point, Qld 4799\n",
      "Geocoding 2 Sexton Court, Endeavour Hills, Vic 3802\n",
      "Geocoding 1208/44 Ryrie Street, Geelong, Vic 3220\n",
      "Geocoding 3 Cedar Drive, Dunoon, NSW 2480\n",
      "Geocoding 4 Northbridge Road, Highton, Vic 3216\n",
      "Geocoding 12 Bowlers Avenue, Geelong West, Vic 3218\n",
      "Geocoding Level 30 / 500 Pacific Highway, St Leonards, NSW 2065\n",
      "Geocoding 2 & 16/60 South Terrace, Adelaide, SA 5000\n",
      "Geocoding 222 Shannon Avenue, Geelong West, Vic 3218\n",
      "Geocoding 55 Nedlands Drive, Highton, Vic 3216\n",
      "Geocoding 7/73 Parraween Street, Cremorne, NSW 2090\n",
      "Geocoding 2201/17 Penny Place, Adelaide, SA 5000\n",
      "Geocoding 15/5-7 Bombala Terrace, Caloundra, Qld 4551\n",
      "Geocoding 21 Rathgar Road, Lysterfield, Vic 3156\n",
      "Geocoding 1107/3 Herbert Street, St Leonards, NSW 2065\n",
      "Geocoding 9/45 Walkers Drive, Lane Cove, NSW 2066\n",
      "Geocoding 454 & 454a McEdward Street, Birdwoodton, Vic 3505\n",
      "Geocoding 264 North Terrace, Adelaide, SA 5000\n",
      "Geocoding 4 Mayton Court, Grovedale, Vic 3216\n",
      "Geocoding 63/118 Adderton Road, Carlingford, NSW 2118\n",
      "Geocoding 11 Leilani Court, Highton, Vic 3216\n",
      "Geocoding 90 Major Crescent, Lysterfield, Vic 3156\n",
      "Geocoding 5 Grantchester Road, Narre Warren North, Vic 3804\n",
      "Geocoding 10 Aitkenside Avenue, Highton, Vic 3216\n",
      "Geocoding 77 Postmans Ridge Road, Helidon Spa, Qld 4344\n",
      "Geocoding 105/2 Marcus Clarke Street, City, ACT 2601\n",
      "Geocoding 3741 The Bucketts Way, Krambach, NSW 2429\n",
      "Geocoding 44 Mandara Drive, Wurtulla, Qld 4575\n",
      "Geocoding UNIT 14/3 LONDON CIRCUIT, City, ACT 2601\n",
      "Geocoding 76 Bathurst Street, Elliott Heads, Qld 4670\n",
      "Geocoding 711/1 Sergeants Lane, St Leonards, NSW 2065\n",
      "Geocoding 5 Jessica Way, Highton, Vic 3216\n",
      "Geocoding 56 Needes Hill Rd, Brookhampton, WA 6239\n",
      "Geocoding 8 Carolyn Close, Kariong, NSW 2250\n",
      "Geocoding 8/68-70 Faunce Street West, Gosford, NSW 2250\n",
      "Geocoding 2305/2A Help Street, Chatswood, NSW 2067\n",
      "Geocoding 201/13-19 Canberra Avenue, St Leonards, NSW 2065\n",
      "Geocoding 1107/19 Marcus Clarke Street, City, ACT 2601\n",
      "Geocoding 908/35 Corio Street, Geelong, Vic 3220\n",
      "Geocoding 25 Yale Close, North Rocks, NSW 2151\n",
      "Geocoding 44 Francis Crescent, Ferntree Gully, Vic 3156\n",
      "Geocoding Lot 4, 232 Sugarloaf Road, Stanthorpe, Qld 4380\n",
      "Geocoding 11 Wiangaree Drive, Rangeville, Qld 4350\n",
      "Geocoding Lot 671, 37 Frogmore Way, Highton, Vic 3216\n",
      "Geocoding 3/17 Granby Crescent, Highton, Vic 3216\n",
      "Geocoding 1609/1 Sergeants Lane, St Leonards, NSW 2065\n",
      "Geocoding 73 Macquarie Street, Jamberoo, NSW 2533\n",
      "Geocoding Unit 2404 'ZINC' 42 Bokarina Boulevard, Bokarina, Qld 4575\n",
      "Geocoding 536 Philps Road, Grantham, Qld 4347\n",
      "Geocoding 615 Delta Road, Curlwaa, NSW 2648\n",
      "Geocoding 52 Majestic Drive, Highton, Vic 3216\n",
      "Geocoding 7/143 Barrabool Road, Highton, Vic 3216\n",
      "Geocoding 67 Barrys Road, Modanville, NSW 2480\n",
      "Geocoding 18/32 Station Street, Dundas, NSW 2117\n",
      "Geocoding 34/51 Bonnyrigg Avenue, Bonnyrigg, NSW 2177\n",
      "Geocoding 13 Watersedge Terrace, Highton, Vic 3216\n",
      "Geocoding 413/240 Bunda Street, City, ACT 2601\n",
      "Geocoding Unit 2/29-31 Keith Williams Dr, Cardwell, Qld 4849\n",
      "Geocoding 5 Brooks Road, Sarina, Qld 4737\n",
      "Geocoding 3 Fairfax Court, Innes Park, Qld 4670\n",
      "Geocoding 1007/25 Mann Street, Gosford, NSW 2250\n",
      "Geocoding 501/65 Cooyong Street, Braddon, ACT 2612\n",
      "Geocoding 12 Fords Road, Geeveston, Tas 7116\n",
      "Geocoding 2503/1A Morton Street, Parramatta, NSW 2150\n",
      "Geocoding 2008/88A Christie Street, St Leonards, NSW 2065\n",
      "Geocoding 2608/1 Sergeants Lane, St Leonards, NSW 2065\n",
      "Geocoding 705/225 Pacific Highway, North Sydney, NSW 2060\n",
      "Geocoding 1/7 Croydon Avenue, Currimundi, Qld 4551\n",
      "Geocoding 313 Wattle Grove Road, Wattle Grove, Tas 7109\n",
      "Geocoding 2K/15 Campbell Street, Parramatta, NSW 2150\n",
      "Geocoding 2 Shoubra Drive, Highton, Vic 3216\n",
      "Geocoding 629/81 Cooyong Street, Reid, ACT 2612\n",
      "Geocoding 25 Britannia Street, Geelong West, Vic 3218\n",
      "Geocoding 1209/225 Pacific Hwy, North Sydney, NSW 2060\n",
      "Geocoding 11 Thwaites Close, Highton, Vic 3216\n",
      "Geocoding 5 Diamond Close, Ferntree Gully, Vic 3156\n",
      "Geocoding 16 King Street, Kings Beach, Qld 4551\n",
      "Geocoding 207 Victoria Street, Cardwell, Qld 4849\n",
      "Geocoding 421 Cabramatta Road, Cabramatta, NSW 2166\n",
      "Geocoding 712/2 Akuna Street, City, ACT 2601\n",
      "Geocoding 40 Tate Place, Jamberoo, NSW 2533\n",
      "Geocoding 49 Honiton Avenue W, Carlingford, NSW 2118\n",
      "Geocoding 52 Vallah Lane, Stanthorpe, Qld 4380\n",
      "Geocoding 392 Woongarra Scenic Drive, Innes Park, Qld 4670\n",
      "Geocoding 124-126 Grantham Drive, Highton, Vic 3216\n",
      "Geocoding Lot 44 Tantaus Road, Dereel, Vic 3352\n",
      "Geocoding 18 River Road, Woodford, Vic 3281\n",
      "Geocoding 1004/6-10 Charles Street, Parramatta, NSW 2150\n",
      "Geocoding 16 Karingal Avenue, Carlingford, NSW 2118\n",
      "Geocoding 16 Kombi Street, Bokarina, Qld 4575\n",
      "Geocoding 315/10 Leeding Terrace, Caloundra, Qld 4551\n",
      "Geocoding 32/30 Burgoyne Street, Roxby Downs, SA 5725\n",
      "Geocoding 1/12 Redgrove Street, Green Point, NSW 2251\n",
      "Geocoding 508/44 Ryrie Street, Geelong, Vic 3220\n",
      "Geocoding Lot 1-3, 29 Daranda Terrace, Milang, SA 5256\n",
      "Geocoding 38/1 Provan Street, Campbell, ACT 2612\n",
      "Geocoding 6 Symes Street, Stanthorpe, Qld 4380\n",
      "Geocoding 401 & 402/115 Bulcock Street, Caloundra, Qld 4551\n",
      "Geocoding 8A Everett Avenue, Dulwich, SA 5065\n",
      "Geocoding 31 Olive Avenue, Phegans Bay, NSW 2256\n",
      "Geocoding 2 Tuckeroo Close, Coral Cove, Qld 4670\n",
      "Geocoding 2/260 Roslyn Road, Highton, Vic 3216\n",
      "Geocoding 1/48 Augustine Drive, Highton, Vic 3216\n",
      "Geocoding 805/88 Church Street, Parramatta, NSW 2150\n",
      "Geocoding 7/1 Oliver Road, Chatswood, NSW 2067\n",
      "Geocoding 18 Minkara Street, Warana, Qld 4575\n",
      "Geocoding 20 Davison Road, Wilson Beach, Qld 4800\n",
      "Geocoding 4 Tom Gearon Court, Narre Warren North, Vic 3804\n",
      "Geocoding 64 South Valley Road, Highton, Vic 3216\n",
      "Geocoding 12/80 Wattle Street, Fullarton, SA 5063\n"
     ]
    }
   ],
   "source": [
    "all_results = []\n",
    "\n",
    "dfs = []\n",
    "\n",
    "for address in addresses_rea:\n",
    "    print(f'Geocoding {address}')\n",
    "    address_new = address.replace(' ', '+')\n",
    "    url_full = f'{url_base}?q={address_new}&access_token='+access_token\n",
    "    page = requests.get(url=url_full)\n",
    "    address_result = pd.DataFrame(page.json()['features'][0])['properties']\n",
    "    dfs.append(address_result)"
   ]
  },
  {
   "cell_type": "code",
   "execution_count": 86,
   "id": "d4d803a7-3990-46a6-9a64-9da26890ebd2",
   "metadata": {},
   "outputs": [],
   "source": [
    "# write the data\n",
    "(\n",
    "    pd.DataFrame(dfs)\n",
    "    .assign(input_address=addresses_rea)\n",
    "    .to_csv('rea_experiments_mapbox_030924.csv', index=False)\n",
    ")"
   ]
  },
  {
   "cell_type": "markdown",
   "id": "15c046a7-d94a-4979-8f84-1a613728b34d",
   "metadata": {},
   "source": [
    "## Overall accuracy results\n",
    "\n",
    "These are found by manually reviewing the outputs from each of the geocoders. See the labelled outputs for the original data used to calculate these values."
   ]
  },
  {
   "cell_type": "code",
   "execution_count": null,
   "id": "a2cabda7-327b-400f-85fc-c06fb406a888",
   "metadata": {},
   "outputs": [],
   "source": [
    "overall_results_data = {'google': [0.675257732, 0.8969072165, 0.9742268041, 0.9896907216, \n",
    "                                   0.984375, 1, 1, 1],\n",
    "                        'whereabouts': [0.6701030928, 0.9536082474, 0.9484536082, 0.9536082474,\n",
    "                                        0.90625, 0.984375, 0.984375, 1],\n",
    "                        'mapbox': [0.4639175258, 0.7731958763, 0.8298969072, 0.8453608247, \n",
    "                                   0.5234375, 0.578125, 0.984375, 0.984375],\n",
    "                        'nominatim': [0.1494845361, 0.1494845361, 0.2164948454, 0.2164948454, \n",
    "                                      0.1171875, 0.1171875, 0.7265625, 0.71875]}\n",
    "\n",
    "overall_results_labels1 = ['apartment', 'house', 'street', 'suburb'] + ['apartment', 'house', 'street', 'suburb']\n",
    "overall_results_labels2 = ['retail', 'retail', 'retail', 'retail'] + ['residential', 'residential', 'residential', 'residential']\n",
    "\n",
    "df_overall_results = (\n",
    "    pd.DataFrame(data=overall_results_data)\n",
    "    .assign(address_level=overall_results_labels1,\n",
    "            location_type=overall_results_labels2)\n",
    "    .melt(id_vars=['address_level', 'location_type'], \n",
    "          value_vars=['google', 'whereabouts', 'mapbox', 'nominatim'])\n",
    ")\n",
    "\n",
    "custom_palette = {\n",
    "    'whereabouts': '#c34a36',   \n",
    "    'google': '#b0a8b9', \n",
    "    'mapbox': '#bea6a0', \n",
    "    'nominatim': '#b9b2d9'\n",
    "}"
   ]
  },
  {
   "cell_type": "code",
   "execution_count": null,
   "id": "b3ef2eaa-8256-4143-9192-136e14e4651f",
   "metadata": {},
   "outputs": [],
   "source": [
    "plt.figure(figsize=(8, 6))\n",
    "sns.barplot(df_overall_results.query('location_type==\"retail\"'),\n",
    "            x='address_level',\n",
    "            y='value',\n",
    "            hue='variable', \n",
    "            palette=custom_palette)\n",
    "plt.xlabel('Geographic granularity')\n",
    "plt.ylabel('Accuracy')\n",
    "plt.title('Accuracy comparison for retail dataset')\n",
    "plt.legend(loc='lower right')\n",
    "plt.savefig('geocoder_comparison_retail_050924.png')"
   ]
  },
  {
   "cell_type": "markdown",
   "id": "1e644fd2-a7bc-4d34-9ce0-8de855f8b474",
   "metadata": {},
   "source": [
    "## Speed comparison\n",
    "\n",
    "The %%timeit function is used which carries out 7 runs. The average speed is then calculated. \n",
    "\n",
    "These calculations are done for two databases:\n",
    "- The large Victoria database: this handles a broader range of spelling errors\n",
    "- The small Australian database: country wide but with less tolerance for spelling errors"
   ]
  },
  {
   "cell_type": "code",
   "execution_count": 67,
   "id": "c16a77f3-31f5-4313-ba5f-09ecdd5f4de3",
   "metadata": {},
   "outputs": [],
   "source": [
    "# load the data\n",
    "df = pd.read_excel('liquor.xlsx', skiprows=3)"
   ]
  },
  {
   "cell_type": "code",
   "execution_count": 68,
   "id": "7d3b473b-5399-4e00-98c8-8d7eacbf7c9d",
   "metadata": {},
   "outputs": [],
   "source": [
    "# calculate the full address\n",
    "df = (\n",
    "    df\n",
    "    .query('Postcode.isnull() == False')\n",
    "    .assign(Postcode=lambda df_: df_.Postcode.astype(int))\n",
    "    .loc[:, ['Address', 'Suburb', 'Postcode']]\n",
    "    .assign(full_address=lambda df_: df_.Address + ' ' + df_.Suburb + ' ' + df_.Postcode.astype(str))\n",
    ")"
   ]
  },
  {
   "cell_type": "code",
   "execution_count": 69,
   "id": "5aef65c8-202b-458a-8458-6e12dbb11ce0",
   "metadata": {},
   "outputs": [],
   "source": [
    "# take a random sample of 8192 addresses\n",
    "addresses = df.full_address.sample(2**13, random_state=42).values"
   ]
  },
  {
   "cell_type": "code",
   "execution_count": 76,
   "id": "c8c8ed06-6948-44d7-acf2-7185fb750744",
   "metadata": {},
   "outputs": [],
   "source": [
    "matcher_vic = Matcher('au_all_sm')"
   ]
  },
  {
   "cell_type": "code",
   "execution_count": 77,
   "id": "42f677dd-d732-4ca4-963f-2ca7eadc4c9c",
   "metadata": {},
   "outputs": [
    {
     "data": {
      "application/vnd.jupyter.widget-view+json": {
       "model_id": "6810167d32bd48ed965d42e4a68e7502",
       "version_major": 2,
       "version_minor": 0
      },
      "text/plain": [
       "FloatProgress(value=0.0, layout=Layout(width='auto'), style=ProgressStyle(bar_color='black'))"
      ]
     },
     "metadata": {},
     "output_type": "display_data"
    },
    {
     "data": {
      "application/vnd.jupyter.widget-view+json": {
       "model_id": "172f8cdbd1574d83a885a98da0c961b8",
       "version_major": 2,
       "version_minor": 0
      },
      "text/plain": [
       "FloatProgress(value=0.0, layout=Layout(width='auto'), style=ProgressStyle(bar_color='black'))"
      ]
     },
     "metadata": {},
     "output_type": "display_data"
    },
    {
     "data": {
      "application/vnd.jupyter.widget-view+json": {
       "model_id": "b325e952a9f14fdb902d4b85407b8d85",
       "version_major": 2,
       "version_minor": 0
      },
      "text/plain": [
       "FloatProgress(value=0.0, layout=Layout(width='auto'), style=ProgressStyle(bar_color='black'))"
      ]
     },
     "metadata": {},
     "output_type": "display_data"
    },
    {
     "data": {
      "application/vnd.jupyter.widget-view+json": {
       "model_id": "5198eb7f7e244e339249b53d9a99b9b6",
       "version_major": 2,
       "version_minor": 0
      },
      "text/plain": [
       "FloatProgress(value=0.0, layout=Layout(width='auto'), style=ProgressStyle(bar_color='black'))"
      ]
     },
     "metadata": {},
     "output_type": "display_data"
    },
    {
     "data": {
      "application/vnd.jupyter.widget-view+json": {
       "model_id": "16b1e6be52754ca7bc86a54235b62f93",
       "version_major": 2,
       "version_minor": 0
      },
      "text/plain": [
       "FloatProgress(value=0.0, layout=Layout(width='auto'), style=ProgressStyle(bar_color='black'))"
      ]
     },
     "metadata": {},
     "output_type": "display_data"
    },
    {
     "data": {
      "application/vnd.jupyter.widget-view+json": {
       "model_id": "cc8882da235240859455ec88c8628562",
       "version_major": 2,
       "version_minor": 0
      },
      "text/plain": [
       "FloatProgress(value=0.0, layout=Layout(width='auto'), style=ProgressStyle(bar_color='black'))"
      ]
     },
     "metadata": {},
     "output_type": "display_data"
    },
    {
     "data": {
      "application/vnd.jupyter.widget-view+json": {
       "model_id": "cc8f67581f8c42db8896f472cf2afb5d",
       "version_major": 2,
       "version_minor": 0
      },
      "text/plain": [
       "FloatProgress(value=0.0, layout=Layout(width='auto'), style=ProgressStyle(bar_color='black'))"
      ]
     },
     "metadata": {},
     "output_type": "display_data"
    },
    {
     "data": {
      "application/vnd.jupyter.widget-view+json": {
       "model_id": "5d80f41ddba2471f98bef9fed4085728",
       "version_major": 2,
       "version_minor": 0
      },
      "text/plain": [
       "FloatProgress(value=0.0, layout=Layout(width='auto'), style=ProgressStyle(bar_color='black'))"
      ]
     },
     "metadata": {},
     "output_type": "display_data"
    },
    {
     "name": "stdout",
     "output_type": "stream",
     "text": [
      "16.9 s ± 40.3 ms per loop (mean ± std. dev. of 7 runs, 1 loop each)\n"
     ]
    }
   ],
   "source": [
    "%%timeit\n",
    "results = matcher_vic.geocode(addresses)"
   ]
  },
  {
   "cell_type": "code",
   "execution_count": 74,
   "id": "b0b65af5-d0e3-4544-a71f-efc882eb88c7",
   "metadata": {},
   "outputs": [
    {
     "data": {
      "text/plain": [
       "542.5165562913908"
      ]
     },
     "execution_count": 74,
     "metadata": {},
     "output_type": "execute_result"
    }
   ],
   "source": [
    "# au_vic_lg\n",
    "8192 / 15.1"
   ]
  },
  {
   "cell_type": "code",
   "execution_count": 78,
   "id": "b8747dd5-8aba-4144-b292-15d2aebbf3fc",
   "metadata": {},
   "outputs": [
    {
     "data": {
      "text/plain": [
       "484.7337278106509"
      ]
     },
     "execution_count": 78,
     "metadata": {},
     "output_type": "execute_result"
    }
   ],
   "source": [
    "# au_all_sm\n",
    "8192 / 16.9"
   ]
  }
 ],
 "metadata": {
  "kernelspec": {
   "display_name": "uwl",
   "language": "python",
   "name": "uwl"
  },
  "language_info": {
   "codemirror_mode": {
    "name": "ipython",
    "version": 3
   },
   "file_extension": ".py",
   "mimetype": "text/x-python",
   "name": "python",
   "nbconvert_exporter": "python",
   "pygments_lexer": "ipython3",
   "version": "3.13.2"
  }
 },
 "nbformat": 4,
 "nbformat_minor": 5
}
