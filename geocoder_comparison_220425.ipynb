{
 "cells": [
  {
   "cell_type": "markdown",
   "id": "a971528a-7b0d-419b-8445-096fd87b8931",
   "metadata": {},
   "source": [
    "# Whereabouts: calculation of speed, accuracy and comparison with other geocoders\n",
    "\n",
    "06 09 24\n",
    "\n",
    "## Description\n",
    "This notebook contains code for producing the accuracy and speed results for the whereabouts package (https://www.github.com/ajl2718/whereabouts) and comparing with three other geocoders: Google, MapBox and Nominatim.\n",
    "\n",
    "\n",
    "## Test datasets\n",
    "There are three datasets used for testing, two for accuracy and one for speed:\n",
    "- Locations of Guzman and Gomez stores in Australia\n",
    "- Random residential locations from parts of Australia\n",
    "- Licensed venues in Victoria, Australia\n",
    "\n",
    "These datasets are available here: https://github.com/ajl2718/python_learning/whereabouts_testing/\n",
    "\n",
    "## Methodology\n",
    "Accuracy is assessed at four levels of geographic granularity:\n",
    "- Apartment number: All components of the address must be correct including level number, building number, shop number where these appear\n",
    "- House number: The main street number has to be correct\n",
    "- Street name: The address is correct up to the street name\n",
    "- Suburb name: The correct suburb of the location is found\n",
    "\n",
    "For each level, a score of 1 is given if the address matches and 0 otherwise. Total accuracy (number of correct / number of addresses) is then calculated for each level"
   ]
  },
  {
   "cell_type": "code",
   "execution_count": 7,
   "id": "cf03bddb-b48f-4851-98d7-c2e1d3789422",
   "metadata": {},
   "outputs": [],
   "source": [
    "from time import time, sleep\n",
    "import requests\n",
    "\n",
    "import pandas as pd\n",
    "import numpy as np\n",
    "\n",
    "import math\n",
    "\n",
    "import matplotlib.pyplot as plt\n",
    "import seaborn as sns\n",
    "\n",
    "%matplotlib inline\n",
    "sns.set()"
   ]
  },
  {
   "cell_type": "code",
   "execution_count": 8,
   "id": "ae64daab-0c31-4ece-9268-71718db38b49",
   "metadata": {},
   "outputs": [],
   "source": [
    "sns.set_style(\"whitegrid\")"
   ]
  },
  {
   "cell_type": "markdown",
   "id": "3fccc417-5669-4687-938d-2337695c7696",
   "metadata": {},
   "source": [
    "## Data sources"
   ]
  },
  {
   "cell_type": "code",
   "execution_count": 9,
   "id": "19b81b11-97de-4ceb-b93f-ccd088f418d4",
   "metadata": {},
   "outputs": [],
   "source": [
    "# load Guzman y Gomez\n",
    "df = pd.read_csv('data/gyg_210624_geocoded.csv')\n",
    "addresses_gyg = df['address'].values"
   ]
  },
  {
   "cell_type": "code",
   "execution_count": 10,
   "id": "b6382d25-86c1-4be9-b540-a733b9b1646b",
   "metadata": {},
   "outputs": [],
   "source": [
    "# load residential addresses\n",
    "df = pd.read_csv('data/rea_130824.csv', sep='\\t')\n",
    "addresses_rea = df['address'].sample(128, random_state=42).values"
   ]
  },
  {
   "cell_type": "markdown",
   "id": "7af4320a-1412-4b05-a3fe-c51606a37292",
   "metadata": {},
   "source": [
    "## Geocoding: whereabouts"
   ]
  },
  {
   "cell_type": "code",
   "execution_count": 14,
   "id": "c9b8653a-240c-498b-aa16-e2e40934fad9",
   "metadata": {},
   "outputs": [],
   "source": [
    "from whereabouts.Matcher import Matcher\n",
    "from whereabouts.MatcherPipeline import MatcherPipeline"
   ]
  },
  {
   "cell_type": "code",
   "execution_count": 15,
   "id": "d7435af2-1c53-49a9-a4e7-7d81c8215e54",
   "metadata": {},
   "outputs": [],
   "source": [
    "matcher1 = Matcher('au_all_lg', how='standard')\n",
    "matcher2 = Matcher('au_all_lg', how='trigram')\n",
    "\n",
    "pipeline = MatcherPipeline([matcher1, matcher2])"
   ]
  },
  {
   "cell_type": "code",
   "execution_count": 20,
   "id": "7d375bb7-c5e5-4da2-bd9e-612deb47dbdf",
   "metadata": {},
   "outputs": [],
   "source": [
    "# use matcher pipeline\n",
    "results_gyg = matcher1.geocode(list(addresses_gyg))"
   ]
  },
  {
   "cell_type": "code",
   "execution_count": 22,
   "id": "9c9bcbdf-3340-49f8-9a8f-95da1b1e6a64",
   "metadata": {},
   "outputs": [],
   "source": [
    "df_results = pd.DataFrame(data=results_gyg)\n",
    "df_results.to_csv('gyg_experiment_whereabouts_030924.csv', index=False)"
   ]
  },
  {
   "cell_type": "code",
   "execution_count": 24,
   "id": "3784e3a0-c384-4988-943a-baeb6171535d",
   "metadata": {},
   "outputs": [],
   "source": [
    "results_rea = pipeline.geocode(list(addresses_rea))"
   ]
  },
  {
   "cell_type": "code",
   "execution_count": 25,
   "id": "cec882fb-d4e7-454f-954e-517075d41ec9",
   "metadata": {},
   "outputs": [],
   "source": [
    "df_results = pd.DataFrame(data=results_rea)\n",
    "df_results.to_csv('rea_experiment_whereabouts_030924.csv', index=False)"
   ]
  },
  {
   "cell_type": "markdown",
   "id": "bb74301c-a0a5-46c3-accc-8bbf7a2902ab",
   "metadata": {},
   "source": [
    "## Nominatim"
   ]
  },
  {
   "cell_type": "code",
   "execution_count": 27,
   "id": "5afdf75e-d5a2-49cd-918c-b6d25b1ea09d",
   "metadata": {},
   "outputs": [],
   "source": [
    "headers = {\n",
    "    \"User-Agent\": \"\" # change this\n",
    "}\n"
   ]
  },
  {
   "cell_type": "code",
   "execution_count": 28,
   "id": "686b3db5-35f4-4e1a-9ec5-602d9665c0d3",
   "metadata": {},
   "outputs": [],
   "source": [
    "# add country name to addresses\n",
    "addresses_gyg = [address + ' AUSTRALIA' for address in addresses_gyg]\n",
    "addresses_rea = [address + ' AUSTRALIA' for address in addresses_rea]"
   ]
  },
  {
   "cell_type": "code",
   "execution_count": null,
   "id": "32c57e0e-c8a8-41d6-b767-39bbefd5f355",
   "metadata": {},
   "outputs": [],
   "source": [
    "all_results = []\n",
    "\n",
    "for address in addresses_rea:\n",
    "    sleep(1)\n",
    "    print(f'Geocoding {address}')\n",
    "    address_new = address.replace(' ', '+')\n",
    "    url_base = 'https://nominatim.openstreetmap.org/search'\n",
    "    params = {'q': address_new,\n",
    "              'format': 'json',\n",
    "              'addressdetails': 1}\n",
    "    page = requests.get(url_base, params=params, headers=headers)\n",
    "    results = page.json()\n",
    "    if isinstance(results, list):\n",
    "        if len(results) > 0:\n",
    "            results_new = results[0]\n",
    "            all_results.append(results_new)\n",
    "        else:\n",
    "            all_results.append({})\n",
    "    elif isinstance(results, dict):\n",
    "        results_new = results\n",
    "        all_results.append(results_new)\n",
    "    else:\n",
    "        all_results.append({})\n",
    "    "
   ]
  },
  {
   "cell_type": "code",
   "execution_count": 21,
   "id": "ef390c1c-a3cd-4566-bc25-e7b85c37356a",
   "metadata": {},
   "outputs": [],
   "source": [
    "# write the results\n",
    "(\n",
    "    pd.DataFrame(all_results)\n",
    "    .assign(input_address=addresses_rea)\n",
    "    .to_csv('rea_experiments_nominatim_030924.csv', index=False)\n",
    ")"
   ]
  },
  {
   "cell_type": "markdown",
   "id": "39b08e6a-0275-42a7-ac3f-74a580733dda",
   "metadata": {},
   "source": [
    "## Googlemaps API"
   ]
  },
  {
   "cell_type": "code",
   "execution_count": 90,
   "id": "5c605d43-a0a9-4f21-8a6a-0e5efc47f185",
   "metadata": {},
   "outputs": [],
   "source": [
    "api_key = '' # set this"
   ]
  },
  {
   "cell_type": "code",
   "execution_count": null,
   "id": "7266f1ea-e33b-4b5d-95f0-0a3e424a3f08",
   "metadata": {},
   "outputs": [],
   "source": [
    "url_base = 'https://maps.googleapis.com/maps/api/geocode/json'"
   ]
  },
  {
   "cell_type": "code",
   "execution_count": null,
   "id": "1783a27d-8625-4a2a-9f1e-220bf67ae661",
   "metadata": {},
   "outputs": [],
   "source": [
    "all_results = []\n",
    "\n",
    "dfs = []\n",
    "\n",
    "for address in addresses_rea:\n",
    "    print(f'Geocoding {address}')\n",
    "    address_new = address.replace(' ', '+')\n",
    "    params = {'address': address_new, 'key': api_key}\n",
    "    page = requests.get(url=url_base, params=params)\n",
    "    df_temp = (\n",
    "        pd.DataFrame(page.json()['results'][0]['address_components'])[['long_name']]\n",
    "        .T\n",
    "        .reset_index()\n",
    "        .rename(columns={0: 'number', 1: 'street', 2: 'name', 3: 'suburb', 4: 'state', 5: 'country', 6: 'postcode'})\n",
    "    )\n",
    "    dfs.append(df_temp)"
   ]
  },
  {
   "cell_type": "code",
   "execution_count": 1,
   "id": "1122cab4-9ed0-4b82-961f-1cccdae0744f",
   "metadata": {},
   "outputs": [],
   "source": [
    "# write the results\n",
    "(\n",
    "    pd.concat(dfs)\n",
    "    .assign(input_address=addresses_rea)\n",
    "    .to_csv('rea_experiments_google_030924.csv', index=False)\n",
    ")"
   ]
  },
  {
   "cell_type": "markdown",
   "id": "c4cb418e-59db-4ac5-9355-62627f3686e4",
   "metadata": {},
   "source": [
    "## Mapbox\n"
   ]
  },
  {
   "cell_type": "code",
   "execution_count": 77,
   "id": "d40095f2-c57b-427f-ab89-5a804449fc75",
   "metadata": {},
   "outputs": [],
   "source": [
    "access_token = '' # set this"
   ]
  },
  {
   "cell_type": "code",
   "execution_count": 78,
   "id": "73c924be-02a3-48a3-a63f-21c4690ea09a",
   "metadata": {},
   "outputs": [],
   "source": [
    "url_base = 'https://api.mapbox.com/search/geocode/v6/forward'\n",
    "url_full = f'{url_base}?q={address}&access_token='+access_token"
   ]
  },
  {
   "cell_type": "code",
   "execution_count": null,
   "id": "35f1783c-f392-4bef-a9e5-b0d7cf98d9d8",
   "metadata": {},
   "outputs": [],
   "source": [
    "all_results = []\n",
    "\n",
    "dfs = []\n",
    "\n",
    "for address in addresses_rea:\n",
    "    print(f'Geocoding {address}')\n",
    "    address_new = address.replace(' ', '+')\n",
    "    url_full = f'{url_base}?q={address_new}&access_token='+access_token\n",
    "    page = requests.get(url=url_full)\n",
    "    address_result = pd.DataFrame(page.json()['features'][0])['properties']\n",
    "    dfs.append(address_result)"
   ]
  },
  {
   "cell_type": "code",
   "execution_count": 86,
   "id": "d4d803a7-3990-46a6-9a64-9da26890ebd2",
   "metadata": {},
   "outputs": [],
   "source": [
    "# write the data\n",
    "(\n",
    "    pd.DataFrame(dfs)\n",
    "    .assign(input_address=addresses_rea)\n",
    "    .to_csv('rea_experiments_mapbox_030924.csv', index=False)\n",
    ")"
   ]
  },
  {
   "cell_type": "markdown",
   "id": "15c046a7-d94a-4979-8f84-1a613728b34d",
   "metadata": {},
   "source": [
    "## Overall accuracy results\n",
    "\n",
    "These are found by manually reviewing the outputs from each of the geocoders. See the labelled outputs for the original data used to calculate these values."
   ]
  },
  {
   "cell_type": "code",
   "execution_count": null,
   "id": "a2cabda7-327b-400f-85fc-c06fb406a888",
   "metadata": {},
   "outputs": [],
   "source": [
    "overall_results_data = {'google': [0.675257732, 0.8969072165, 0.9742268041, 0.9896907216, \n",
    "                                   0.984375, 1, 1, 1],\n",
    "                        'whereabouts': [0.6701030928, 0.9536082474, 0.9484536082, 0.9536082474,\n",
    "                                        0.90625, 0.984375, 0.984375, 1],\n",
    "                        'mapbox': [0.4639175258, 0.7731958763, 0.8298969072, 0.8453608247, \n",
    "                                   0.5234375, 0.578125, 0.984375, 0.984375],\n",
    "                        'nominatim': [0.1494845361, 0.1494845361, 0.2164948454, 0.2164948454, \n",
    "                                      0.1171875, 0.1171875, 0.7265625, 0.71875]}\n",
    "\n",
    "overall_results_labels1 = ['apartment', 'house', 'street', 'suburb'] + ['apartment', 'house', 'street', 'suburb']\n",
    "overall_results_labels2 = ['retail', 'retail', 'retail', 'retail'] + ['residential', 'residential', 'residential', 'residential']\n",
    "\n",
    "df_overall_results = (\n",
    "    pd.DataFrame(data=overall_results_data)\n",
    "    .assign(address_level=overall_results_labels1,\n",
    "            location_type=overall_results_labels2)\n",
    "    .melt(id_vars=['address_level', 'location_type'], \n",
    "          value_vars=['google', 'whereabouts', 'mapbox', 'nominatim'])\n",
    ")\n",
    "\n",
    "custom_palette = {\n",
    "    'whereabouts': '#c34a36',   \n",
    "    'google': '#b0a8b9', \n",
    "    'mapbox': '#bea6a0', \n",
    "    'nominatim': '#b9b2d9'\n",
    "}"
   ]
  },
  {
   "cell_type": "code",
   "execution_count": null,
   "id": "b3ef2eaa-8256-4143-9192-136e14e4651f",
   "metadata": {},
   "outputs": [],
   "source": [
    "plt.figure(figsize=(8, 6))\n",
    "sns.barplot(df_overall_results.query('location_type==\"retail\"'),\n",
    "            x='address_level',\n",
    "            y='value',\n",
    "            hue='variable', \n",
    "            palette=custom_palette)\n",
    "plt.xlabel('Geographic granularity')\n",
    "plt.ylabel('Accuracy')\n",
    "plt.title('Accuracy comparison for retail dataset')\n",
    "plt.legend(loc='lower right')\n",
    "plt.savefig('geocoder_comparison_retail_050924.png')"
   ]
  },
  {
   "cell_type": "markdown",
   "id": "1e644fd2-a7bc-4d34-9ce0-8de855f8b474",
   "metadata": {},
   "source": [
    "## Speed comparison\n",
    "\n",
    "The %%timeit function is used which carries out 7 runs. The average speed is then calculated. \n",
    "\n",
    "These calculations are done for two databases:\n",
    "- The large Victoria database: this handles a broader range of spelling errors\n",
    "- The small Australian database: country wide but with less tolerance for spelling errors"
   ]
  },
  {
   "cell_type": "code",
   "execution_count": 67,
   "id": "c16a77f3-31f5-4313-ba5f-09ecdd5f4de3",
   "metadata": {},
   "outputs": [],
   "source": [
    "# load the data\n",
    "df = pd.read_excel('data/liquor.xlsx', skiprows=3)"
   ]
  },
  {
   "cell_type": "code",
   "execution_count": 68,
   "id": "7d3b473b-5399-4e00-98c8-8d7eacbf7c9d",
   "metadata": {},
   "outputs": [],
   "source": [
    "# calculate the full address\n",
    "df = (\n",
    "    df\n",
    "    .query('Postcode.isnull() == False')\n",
    "    .assign(Postcode=lambda df_: df_.Postcode.astype(int))\n",
    "    .loc[:, ['Address', 'Suburb', 'Postcode']]\n",
    "    .assign(full_address=lambda df_: df_.Address + ' ' + df_.Suburb + ' ' + df_.Postcode.astype(str))\n",
    ")"
   ]
  },
  {
   "cell_type": "code",
   "execution_count": 69,
   "id": "5aef65c8-202b-458a-8458-6e12dbb11ce0",
   "metadata": {},
   "outputs": [],
   "source": [
    "# take a random sample of 8192 addresses\n",
    "addresses = df.full_address.sample(2**13, random_state=42).values"
   ]
  },
  {
   "cell_type": "code",
   "execution_count": 76,
   "id": "c8c8ed06-6948-44d7-acf2-7185fb750744",
   "metadata": {},
   "outputs": [],
   "source": [
    "matcher_vic = Matcher('au_all_sm')"
   ]
  },
  {
   "cell_type": "code",
   "execution_count": null,
   "id": "42f677dd-d732-4ca4-963f-2ca7eadc4c9c",
   "metadata": {},
   "outputs": [],
   "source": [
    "%%timeit\n",
    "results = matcher_vic.geocode(addresses)"
   ]
  }
 ],
 "metadata": {
  "kernelspec": {
   "display_name": "uwl",
   "language": "python",
   "name": "uwl"
  },
  "language_info": {
   "codemirror_mode": {
    "name": "ipython",
    "version": 3
   },
   "file_extension": ".py",
   "mimetype": "text/x-python",
   "name": "python",
   "nbconvert_exporter": "python",
   "pygments_lexer": "ipython3",
   "version": "3.13.2"
  }
 },
 "nbformat": 4,
 "nbformat_minor": 5
}
